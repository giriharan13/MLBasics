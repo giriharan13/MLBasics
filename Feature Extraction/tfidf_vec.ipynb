{
 "cells": [
  {
   "cell_type": "code",
   "execution_count": 32,
   "id": "10b33316",
   "metadata": {},
   "outputs": [],
   "source": [
    "#Installing the modules\n",
    "\n",
    "import numpy as np\n",
    "import pandas as pd\n",
    "import os,re\n",
    "from sklearn.model_selection import train_test_split\n",
    "from sklearn.linear_model import LogisticRegression\n",
    "from sklearn.feature_extraction.text import TfidfVectorizer\n",
    "from sklearn.metrics import accuracy_score\n",
    "from nltk.corpus import stopwords\n",
    "from nltk.stem import PorterStemmer"
   ]
  },
  {
   "cell_type": "code",
   "execution_count": 36,
   "id": "e5484da0",
   "metadata": {
    "scrolled": true
   },
   "outputs": [
    {
     "name": "stderr",
     "output_type": "stream",
     "text": [
      "[nltk_data] Downloading package stopwords to\n",
      "[nltk_data]     C:\\Users\\raghu\\AppData\\Roaming\\nltk_data...\n",
      "[nltk_data]   Package stopwords is already up-to-date!\n"
     ]
    },
    {
     "data": {
      "text/plain": [
       "True"
      ]
     },
     "execution_count": 36,
     "metadata": {},
     "output_type": "execute_result"
    }
   ],
   "source": [
    "import nltk\n",
    "nltk.download(\"stopwords\")"
   ]
  },
  {
   "cell_type": "code",
   "execution_count": 37,
   "id": "5b830537",
   "metadata": {},
   "outputs": [],
   "source": [
    "news_data = pd.read_csv(os.path.dirname(os.getcwd())+\"\\\\Datasets\\\\news.csv\")"
   ]
  },
  {
   "cell_type": "code",
   "execution_count": 38,
   "id": "01f67f9c",
   "metadata": {},
   "outputs": [],
   "source": [
    "news_data[\"content\"] = news_data[\"author\"]+news_data[\"title\"]"
   ]
  },
  {
   "cell_type": "code",
   "execution_count": 39,
   "id": "89ec1a6e",
   "metadata": {},
   "outputs": [
    {
     "data": {
      "text/html": [
       "<div>\n",
       "<style scoped>\n",
       "    .dataframe tbody tr th:only-of-type {\n",
       "        vertical-align: middle;\n",
       "    }\n",
       "\n",
       "    .dataframe tbody tr th {\n",
       "        vertical-align: top;\n",
       "    }\n",
       "\n",
       "    .dataframe thead th {\n",
       "        text-align: right;\n",
       "    }\n",
       "</style>\n",
       "<table border=\"1\" class=\"dataframe\">\n",
       "  <thead>\n",
       "    <tr style=\"text-align: right;\">\n",
       "      <th></th>\n",
       "      <th>id</th>\n",
       "      <th>title</th>\n",
       "      <th>author</th>\n",
       "      <th>text</th>\n",
       "      <th>label</th>\n",
       "      <th>content</th>\n",
       "    </tr>\n",
       "  </thead>\n",
       "  <tbody>\n",
       "    <tr>\n",
       "      <th>0</th>\n",
       "      <td>0</td>\n",
       "      <td>House Dem Aide: We Didn’t Even See Comey’s Let...</td>\n",
       "      <td>Darrell Lucus</td>\n",
       "      <td>House Dem Aide: We Didn’t Even See Comey’s Let...</td>\n",
       "      <td>1</td>\n",
       "      <td>Darrell LucusHouse Dem Aide: We Didn’t Even Se...</td>\n",
       "    </tr>\n",
       "    <tr>\n",
       "      <th>1</th>\n",
       "      <td>1</td>\n",
       "      <td>FLYNN: Hillary Clinton, Big Woman on Campus - ...</td>\n",
       "      <td>Daniel J. Flynn</td>\n",
       "      <td>Ever get the feeling your life circles the rou...</td>\n",
       "      <td>0</td>\n",
       "      <td>Daniel J. FlynnFLYNN: Hillary Clinton, Big Wom...</td>\n",
       "    </tr>\n",
       "    <tr>\n",
       "      <th>2</th>\n",
       "      <td>2</td>\n",
       "      <td>Why the Truth Might Get You Fired</td>\n",
       "      <td>Consortiumnews.com</td>\n",
       "      <td>Why the Truth Might Get You Fired October 29, ...</td>\n",
       "      <td>1</td>\n",
       "      <td>Consortiumnews.comWhy the Truth Might Get You ...</td>\n",
       "    </tr>\n",
       "    <tr>\n",
       "      <th>3</th>\n",
       "      <td>3</td>\n",
       "      <td>15 Civilians Killed In Single US Airstrike Hav...</td>\n",
       "      <td>Jessica Purkiss</td>\n",
       "      <td>Videos 15 Civilians Killed In Single US Airstr...</td>\n",
       "      <td>1</td>\n",
       "      <td>Jessica Purkiss15 Civilians Killed In Single U...</td>\n",
       "    </tr>\n",
       "    <tr>\n",
       "      <th>4</th>\n",
       "      <td>4</td>\n",
       "      <td>Iranian woman jailed for fictional unpublished...</td>\n",
       "      <td>Howard Portnoy</td>\n",
       "      <td>Print \\nAn Iranian woman has been sentenced to...</td>\n",
       "      <td>1</td>\n",
       "      <td>Howard PortnoyIranian woman jailed for fiction...</td>\n",
       "    </tr>\n",
       "  </tbody>\n",
       "</table>\n",
       "</div>"
      ],
      "text/plain": [
       "   id                                              title              author  \\\n",
       "0   0  House Dem Aide: We Didn’t Even See Comey’s Let...       Darrell Lucus   \n",
       "1   1  FLYNN: Hillary Clinton, Big Woman on Campus - ...     Daniel J. Flynn   \n",
       "2   2                  Why the Truth Might Get You Fired  Consortiumnews.com   \n",
       "3   3  15 Civilians Killed In Single US Airstrike Hav...     Jessica Purkiss   \n",
       "4   4  Iranian woman jailed for fictional unpublished...      Howard Portnoy   \n",
       "\n",
       "                                                text  label  \\\n",
       "0  House Dem Aide: We Didn’t Even See Comey’s Let...      1   \n",
       "1  Ever get the feeling your life circles the rou...      0   \n",
       "2  Why the Truth Might Get You Fired October 29, ...      1   \n",
       "3  Videos 15 Civilians Killed In Single US Airstr...      1   \n",
       "4  Print \\nAn Iranian woman has been sentenced to...      1   \n",
       "\n",
       "                                             content  \n",
       "0  Darrell LucusHouse Dem Aide: We Didn’t Even Se...  \n",
       "1  Daniel J. FlynnFLYNN: Hillary Clinton, Big Wom...  \n",
       "2  Consortiumnews.comWhy the Truth Might Get You ...  \n",
       "3  Jessica Purkiss15 Civilians Killed In Single U...  \n",
       "4  Howard PortnoyIranian woman jailed for fiction...  "
      ]
     },
     "execution_count": 39,
     "metadata": {},
     "output_type": "execute_result"
    }
   ],
   "source": [
    "news_data.head()"
   ]
  },
  {
   "cell_type": "code",
   "execution_count": 40,
   "id": "b9b71096",
   "metadata": {},
   "outputs": [],
   "source": [
    "news_data = news_data.fillna(\" \")"
   ]
  },
  {
   "cell_type": "code",
   "execution_count": 41,
   "id": "c4d0e973",
   "metadata": {},
   "outputs": [],
   "source": [
    "stemmer = PorterStemmer()\n",
    "def stemming(content):\n",
    "    stm_cont = re.sub(\"[^A-Za-z]\",\" \",content)\n",
    "    stm_cont = stm_cont.lower().split()\n",
    "    stm_cont = [stemmer.stem(word) for word in stm_cont if word not in stopwords.words(\"english\")]\n",
    "    return \" \".join(stm_cont)"
   ]
  },
  {
   "cell_type": "code",
   "execution_count": 42,
   "id": "c9c3add4",
   "metadata": {
    "scrolled": true
   },
   "outputs": [],
   "source": [
    "news_data[\"content\"] = news_data[\"content\"].apply(stemming)"
   ]
  },
  {
   "cell_type": "code",
   "execution_count": 43,
   "id": "d124668b",
   "metadata": {
    "scrolled": true
   },
   "outputs": [],
   "source": [
    "X=news_data[\"content\"].values\n",
    "Y=news_data[\"label\"].values"
   ]
  },
  {
   "cell_type": "code",
   "execution_count": 44,
   "id": "3170f634",
   "metadata": {},
   "outputs": [],
   "source": [
    "vec = TfidfVectorizer()\n",
    "vec.fit(X)\n",
    "\n",
    "X = vec.transform(X)"
   ]
  },
  {
   "cell_type": "code",
   "execution_count": 46,
   "id": "3e592708",
   "metadata": {},
   "outputs": [
    {
     "name": "stdout",
     "output_type": "stream",
     "text": [
      "  (0, 25226)\t0.28162432751900723\n",
      "  (0, 21769)\t0.25518388134317993\n",
      "  (0, 14389)\t0.42550017924124683\n",
      "  (0, 13944)\t0.2935671022600897\n",
      "  (0, 12255)\t0.24490363037653382\n",
      "  (0, 7670)\t0.2294324647741814\n",
      "  (0, 6013)\t0.28294233649002914\n",
      "  (0, 5717)\t0.3547296154644373\n",
      "  (0, 4795)\t0.2482488322255666\n",
      "  (0, 4032)\t0.36794983855235097\n",
      "  (0, 557)\t0.2698440335941719\n",
      "  (1, 26729)\t0.3744312207519615\n",
      "  (1, 10851)\t0.24826005870998635\n",
      "  (1, 8388)\t0.5207038261529267\n",
      "  (1, 5665)\t0.3164600305921311\n",
      "  (1, 4564)\t0.23917941579214552\n",
      "  (1, 3695)\t0.45529309555390174\n",
      "  (1, 3144)\t0.18469422901356766\n",
      "  (1, 2511)\t0.358159496054757\n",
      "  (2, 25130)\t0.3695625476390389\n",
      "  (2, 15680)\t0.4334631658640028\n",
      "  (2, 9042)\t0.31082464039565\n",
      "  (2, 8189)\t0.3428370903265172\n",
      "  (2, 5023)\t0.4018370365446361\n",
      "  (2, 4909)\t0.5476412837817158\n",
      "  :\t:\n",
      "  (20797, 24697)\t0.08187923460575433\n",
      "  (20797, 24265)\t0.30911861302070653\n",
      "  (20797, 21155)\t0.25407450176760565\n",
      "  (20797, 19903)\t0.2752263028427713\n",
      "  (20797, 19631)\t0.24870270907041134\n",
      "  (20797, 16766)\t0.0806870682177513\n",
      "  (20797, 15635)\t0.17711412765822399\n",
      "  (20797, 15544)\t0.32433916973644245\n",
      "  (20797, 13512)\t0.23298494625498878\n",
      "  (20797, 11211)\t0.29831945617023664\n",
      "  (20797, 5833)\t0.2193333915443174\n",
      "  (20797, 2160)\t0.332715646554326\n",
      "  (20797, 1199)\t0.30911861302070653\n",
      "  (20797, 66)\t0.38475507368673767\n",
      "  (20798, 21008)\t0.24318804111466583\n",
      "  (20798, 17974)\t0.4351593562282005\n",
      "  (20798, 10967)\t0.3242147043642426\n",
      "  (20798, 7735)\t0.3983980906656125\n",
      "  (20798, 1837)\t0.4455632661424296\n",
      "  (20798, 1038)\t0.4589762388593178\n",
      "  (20798, 670)\t0.28013190857329284\n",
      "  (20799, 24096)\t0.6671128148366913\n",
      "  (20799, 12767)\t0.4131464508365247\n",
      "  (20799, 5764)\t0.3464143351463638\n",
      "  (20799, 703)\t0.5140696556372029\n"
     ]
    }
   ],
   "source": [
    "print(X)"
   ]
  }
 ],
 "metadata": {
  "kernelspec": {
   "display_name": "Python 3 (ipykernel)",
   "language": "python",
   "name": "python3"
  },
  "language_info": {
   "codemirror_mode": {
    "name": "ipython",
    "version": 3
   },
   "file_extension": ".py",
   "mimetype": "text/x-python",
   "name": "python",
   "nbconvert_exporter": "python",
   "pygments_lexer": "ipython3",
   "version": "3.10.9"
  }
 },
 "nbformat": 4,
 "nbformat_minor": 5
}
